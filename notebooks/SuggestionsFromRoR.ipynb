{
 "cells": [
  {
   "cell_type": "code",
   "execution_count": 1,
   "id": "d32e557b",
   "metadata": {},
   "outputs": [],
   "source": [
    "import requests\n",
    "import pandas as pd"
   ]
  },
  {
   "cell_type": "code",
   "execution_count": 2,
   "id": "76583e14",
   "metadata": {},
   "outputs": [],
   "source": [
    "input_ror = '04vfs2w97'"
   ]
  },
  {
   "cell_type": "markdown",
   "id": "017beba5",
   "metadata": {},
   "source": [
    "# Sub-affiliations from RoR"
   ]
  },
  {
   "cell_type": "code",
   "execution_count": 30,
   "id": "31ceb3eb",
   "metadata": {},
   "outputs": [],
   "source": [
    "def get_sub_rors(input_ror):\n",
    "    sub_rors = [input_ror]\n",
    "    url = f'https://api.ror.org/organizations/{input_ror}'\n",
    "    res = requests.get(url).json()\n",
    "    children = [c for c in res['relationships'] if c['type'] == 'Child']\n",
    "    for c in children:\n",
    "        children_ror = c['id'].split('/')[-1]\n",
    "        sub_rors += get_sub_rors(children_ror)\n",
    "    return list(set(sub_rors))\n",
    "#sub_rorsget_sub_rors(input_ror)"
   ]
  },
  {
   "cell_type": "code",
   "execution_count": 42,
   "id": "b220a0f7",
   "metadata": {},
   "outputs": [],
   "source": [
    "def get_query(input_ror, level):\n",
    "    url = f'https://api.ror.org/organizations/{input_ror}'\n",
    "    res = requests.get(url).json()\n",
    "    #sub_rors = [input_ror]\n",
    "    query = []\n",
    "    query_set = set([])\n",
    "    if res.get('name'):\n",
    "        query.append({'str': res['name'], 'type': f'ror_name_{level}', 'source': input_ror})\n",
    "        query_set.add(res['name'])\n",
    "    for a in res['aliases']:\n",
    "        if a not in query_set:\n",
    "            query.append({'str': a, 'type': f'ror_alias_{level}', 'source': input_ror})\n",
    "            query_set.add(a)\n",
    "    for label in res['labels']:\n",
    "        a = label['label']\n",
    "        if a not in query_set:\n",
    "            query.append({'str': a, 'type': f'ror_label_{level}', 'source': input_ror})\n",
    "            query_set.add(a)\n",
    "    children = [c for c in res['relationships'] if c['type'] == 'Child']\n",
    "    children_query = []\n",
    "    #print(len(children))\n",
    "    for c in children:\n",
    "        children_ror = c['id'].split('/')[-1]\n",
    "        #sub_rors.append(children_ror)\n",
    "        print(children_ror, end=',')\n",
    "        sub_query = get_query(children_ror, 'child')\n",
    "        children_query += sub_query['query']\n",
    "        #sub_rors += sub_query['rors']\n",
    "    #sub_rors = list(set(sub_rors))\n",
    "    #print(len(children)\n",
    "    return {'query': query + children_query}#, 'rors': sub_rors}"
   ]
  },
  {
   "cell_type": "code",
   "execution_count": 43,
   "id": "31e03a22",
   "metadata": {},
   "outputs": [
    {
     "name": "stdout",
     "output_type": "stream",
     "text": [
      "02ynmc580,02fdf4056,05em8ne27,04ghtjd11,011nqat45,02cy9g557,025mhc977,01gbppd30,00avmbz91,01kwx4m12,04yc2e502,05k1smh27,04rvw8791,01petg633,03c4rpa03,05je79696,00gyb4719,055swm364,00p6sn362,01pfter31,03nknpw16,01xd0ys45,017je3b10,01nyrrx14,01e8etd40,02vnf0c38,022r5hc56,01d5v2p67,016vxbe23,0106d5c37,04n2vwk08,04xykxd72,01dg9a450,04mq2px33,02cyw3861,0371yc337,020azc393,02atkd403,04ev1zs55,03d28dw78,04x6jg419,05adajg67,05ft9wv42,019c1xz73,01evjjx71,053d03003,04f50n919,0495mzm65,018d4rr63,05yc49b49,02vc99v03,01hntn815,01sp9jb48,05kjgf606,04gmrh438,055yrx709,03hhwe765,03pz4q672,00xngy573,01e0n5141,00wbse129,052k52s41,00mny5z95,01fe8k477,00e8hwt93,05be9p317,01x6z5t49,01nrtdp55,0459fdx51,04yem5s35,01sgwka45,"
     ]
    }
   ],
   "source": [
    "x = get_query(input_ror, 'main')"
   ]
  },
  {
   "cell_type": "code",
   "execution_count": 44,
   "id": "2aa0003a",
   "metadata": {},
   "outputs": [
    {
     "data": {
      "text/plain": [
       "72"
      ]
     },
     "execution_count": 44,
     "metadata": {},
     "output_type": "execute_result"
    }
   ],
   "source": [
    "df = pd.DataFrame(x['query'])\n",
    "sub_rors = list(set(df.source.to_list()))\n",
    "len(sub_rors)"
   ]
  },
  {
   "cell_type": "markdown",
   "id": "3b2965e9",
   "metadata": {},
   "source": [
    "# Affiliation names"
   ]
  },
  {
   "cell_type": "code",
   "execution_count": 46,
   "id": "dd78390f",
   "metadata": {},
   "outputs": [],
   "source": [
    "def transform(x):\n",
    "    x = x.replace(',', ' ').replace('  ', ' ').replace(' ', '+')\n",
    "    return x"
   ]
  },
  {
   "cell_type": "code",
   "execution_count": 47,
   "id": "a4732dea",
   "metadata": {},
   "outputs": [
    {
     "name": "stdout",
     "output_type": "stream",
     "text": [
      "https://works-finder.staging.dataesr.ovh/#/?affiliations=Université+de+Lorraine&affiliations=University+of+Lorraine&affiliations=Animal+and+Functionality+of+Animal+Products&affiliations=Animal+et+Fonctionnalités+des+Produits+Animaux&affiliations=Archives+Henri-Poincaré+-+Philosophie+et+Recherches+sur+les+Sciences+et+les+Technologies&affiliations=Bureau+for+Economic+Theory+and+Applications&affiliations=Bureau+d'Economie+Théorique+et+Appliquée&affiliations=Centre+d'Investigation+Clinique+Pierre+Drouin&affiliations=CIC-Pierre+Drouin&affiliations=CIC-P+NANCY&affiliations=Centre+de+Recherches+Pétrographiques+et+Géochimiques&affiliations=Computer+Processing+and+Analysis+of+the+French+Language&affiliations=Analyse+et+Traitement+Informatique+de+la+Langue+Française&affiliations=Diagnosis+and+International+Adaptive+Imaging&affiliations=IADI+Lab&affiliations=Imagerie+Adaptative+Diagnostique+et+Interventionnelle&affiliations=Dynamique+des+Génomes+et+Adaptation+Microbienne&affiliations=DynAMic&affiliations=Georgia+Tech-CNRS+Laboratory&affiliations=Groupe+de+Recherche+en+Énergie+Électrique+de+Nancy&affiliations=Ingénierie+Moléculaire+et+Physiopathologie+Articulaire&affiliations=Institut+Jean+Lamour&affiliations=Institut+Élie+Cartan+de+Lorraine&affiliations=Institut+Élie-Cartan+de+Nancy&affiliations=Institute+for+Social+Sciences+and+Humanities&affiliations=Maison+des+Sciences+de+l'Homme&affiliations=Interactions+Arbres-Microorganismes&affiliations=Interdisciplinary+Laboratory+for+Continental+Environments&affiliations=Laboratoire+Interdisciplinaire+des+Environnements+Continentaux&affiliations=Labex+ARBRE&affiliations=Advanced+Research+on+the+Biology+of+Tree+and+Forest+Ecosystems&affiliations=Laboratory+of+Excellence+for+Advanced+Research+on+the+Biology+of+TRee+and+Forest+Ecosystems&affiliations=Laboratoire+Matériaux+Optiques+Photonique+et+Systèmes&affiliations=Laboratoire+Réactions+et+Génie+des+Procédés&affiliations=Laboratoire+d'Energétique+et+de+Mécanique+Théorique+et+Appliquée&affiliations=Laboratoire+de+Chimie+Physique+et+Microbiologie+pour+l'Environnement&affiliations=Laboratoire+de+Conception+Fabrication+Commande&affiliations=Laboratory+of+design+manufacturing+and+control&affiliations=Laboratoire+de+Cristallographie+Résonance+Magnétique+et+Modélisations&affiliations=Laboratory+of+Crystallography+Nuclear+Magnetic+Resonance+and+Modelling&affiliations=Crystallography+Magnetic+Resonance+and+Modeling+Laboratory&affiliations=Labor+für+Kristallographie+Kernspinresonanz+und+Modellierung&affiliations=Laboratory+of+Microstructure+Studies+and+Mechanics+of+Materials&affiliations=Laboratoire+d'Étude+des+Microstructures+et+de+Mécanique+des+Matériaux&affiliations=Laboratory+of+Soil+and+Environmental+Sciences&affiliations=Laboratoire+Sols+et+Environnement&affiliations=Lorraine+Research+Laboratory+in+Computer+Science+and+its+Applications&affiliations=Laboratoire+Lorrain+de+Recherche+en+Informatique+et+ses+Applications&affiliations=Research+Center+for+Automatic+Control+of+Nancy&affiliations=Centre+de+Recherche+en+Automatique+de+Nancy&affiliations=Silva&affiliations=Zone+Atelier+Moselle&affiliations=Centre+Européen+de+Recherche+en+Economie+Financière+et+Gestion+des+Entreprises&affiliations=European+Center+for+Research+in+Financial+Economics+and+Business+Management&affiliations=Europäische+Zentrum+für+Forschung+in+Finanzökonomie+und+Unternehmensführung&affiliations=Centro+Europeo+de+Investigación+en+Economía+Financiera+y+Gestión+Empresaria&affiliations=Laboratoire+Interuniversitaire+des+Sciences+de+l'Education+et+de+la+Communication&affiliations=Laboratoire+de+Génie+Informatique+de+Production+et+de+Maintenance&affiliations=Laboratoire+Agronomie+et+Environnement&affiliations=GeoRessources&affiliations=Observatoire+Terre+et+environnement+de+Lorraine&affiliations=Laboratoire+de+Chimie-Physique+Macromoléculaire&affiliations=Laboratoire+Lorrain+de+Chimie+Moléculaire&affiliations=Laboratoire+de+Physique+et+Chimie+Théoriques&affiliations=Centre+de+Recherche+sur+les+Médiations&affiliations=Centre+de+recherche+sur+les+médiations+(Crem)&affiliations=Laboratoire+d'Ingénierie+des+Biomolécules&affiliations=Laboratory+of+Biomolecules+Engineering&affiliations=LIBio&affiliations=Biomolecular+Engineering+Laboratory&affiliations=Laboratoire+de+Conception+Optimisation+et+Modélisation+des+Systèmes&affiliations=Laboratoire+LCOMS&affiliations=Cibles+thérapeutiques+formulation+et+expertise+préclinique+du+médicament&affiliations=Therapeutic+Targets+Formulation+and+Preclinical+Expertise+of+Pharmaceuticals&affiliations=Défaillance+Cardiovasculaire+Aiguë+et+Chronique&affiliations=Acute+and+Chronic+Cardiovascular+Deficiency&affiliations=Développement+Adaptation+et+Handicap&affiliations=Development+Adaptation+and+Handicap&affiliations=DevAH&affiliations=Interactions+Gène-Environnement+en+Physiopathologie+Cardio-Vasculaire&affiliations=Gene-Environnement+Interactions+in+Cardio-Vascular+Physiopathology&affiliations=Nutrition-Génétique+et+Exposition+aux+Risques+Environnementaux&affiliations=Nutrition-Genetics+and+Exposure+to+Environmental+Risks&affiliations=Stress+immunité+pathogènes&affiliations=Laboratoire+SIMPA&affiliations=Stress+Immunity+Pathogens&affiliations=Interpsy&affiliations=InterPsy+Laboratory&affiliations=Laboratoire+InterPsy&affiliations=Psychologie+Ergonomique+et+Sociale+pour+l'Expérience+Utilisateurs&affiliations=Laboratoire+de+Chimie+et+Physique+-+Approche+Multi-échelle+des+Milieux+Complexes&affiliations=Composés+Alimentaires+:+Biofonctionnalités+et+risques+Neurotoxiques&affiliations=Food+Compounds:+Biofunctionalities+and+Neurotoxic+Risks&affiliations=Calbinotox&affiliations=Équipe+de+Recherche+sur+les+Processus+Innovatifs&affiliations=Research+Team+on+Innovation+Process&affiliations=Laboratoire+d'Etude+et+de+Recherche+sur+le+Matériau+Bois&affiliations=Institut+François+Gény&affiliations=François+Gény+Institute&affiliations=Institut+de+recherches+sur+l'évolution+de+la+nation+et+de+l'État&affiliations=Centre+d'Etudes+Germaniques+Interculturelles+de+Lorraine&affiliations=Centre+de+Recherche+sur+les+Cultures+et+les+Littératures+Européennes&affiliations=Centre+de+Recherche+en+Géographie&affiliations=Centre+de+Recherche+Universitaire+Lorrain+d’Histoire&affiliations=Centre+lorrain+de+recherches+interdisciplinaires+dans+les+domaines+des+littératures+des+cultures+et+de+la+théologie&affiliations=Centre+de+recherche+Écritures&affiliations=Centre+Écritures&affiliations=Histoire+et+Cultures+de+l'Antiquité+et+du+Moyen+Âge&affiliations=Interdisciplinarité+dans+les+Etudes+Anglophones&affiliations=Interdisciplinarity+in+English+Studies&affiliations=Littératures+Imaginaire+Sociétés&affiliations=Centre+de+recherches+Littératures+Imaginaire+Sociétés&affiliations=Laboratoire+Lorrain+de+Sciences+Sociales&affiliations=Laboratoire+lorrain+de+psychologie+et+neurosciences+de+la+dynamique+des+comportements&affiliations=Micropesanteur+Fondamentale+et+Appliquée&affiliations=Fundamental+and+Applied+Microgravity&affiliations=GDR+Micropesanteur+Fondamentale+et+Appliquée&affiliations=Groupement+de+Recherche+Micropesanteur+Fondamentale+et+Appliquée&affiliations=Groupement+de+Recherche+Fundamental+and+Applied+Microgravity&affiliations=Fédération+de+Recherche+Spectroscopies+de+Photoémission&affiliations=Spectroscopies+de+Photoémission&affiliations=GDR+NBODY+:+Problème+quantique+à+N+corps+en+chimie+et+physique&affiliations=Groupement+de+Recherche+NBODY:+Quantum+n-body+problem+in+chemistry+and+physics&affiliations=Groupement+de+Recherche+:+Problème+quantique+à+N+corps+en+chimie+et+physique&affiliations=GDR+NBODY:+Quantum+n-body+problem+in+chemistry+and+physics&affiliations=Fédération+de+Recherche+sur+l'Energie+Solaire&affiliations=FédESol&affiliations=INFRANALYTICS&affiliations=FR+2054&affiliations=Microscopie+Fonctionnelle+du+Vivant&affiliations=Biophotonique+Microscopie+Fonctionnelle+du+Vivant&affiliations=GDR+Microscopie+Fonctionnelle+du+Vivant&affiliations=Groupement+de+Recherche+Microscopie+Fonctionnelle+du+Vivant&datasets=true&endYear=2023&startYear=2021\n"
     ]
    }
   ],
   "source": [
    "url = 'https://works-finder.staging.dataesr.ovh/#/?affiliations=' + \"&affiliations=\".join(df.str.apply(lambda x:transform(x)).to_list())\n",
    "url += '&datasets=true&endYear=2023&startYear=2021'\n",
    "print(url)"
   ]
  },
  {
   "cell_type": "markdown",
   "id": "5a36e78c",
   "metadata": {},
   "source": [
    "# Authors from OpenAlex"
   ]
  },
  {
   "cell_type": "code",
   "execution_count": 52,
   "id": "899c9bbc",
   "metadata": {},
   "outputs": [],
   "source": [
    "def chunks(lst, n):\n",
    "    \"\"\"Yield successive n-sized chunks from lst.\"\"\"\n",
    "    for i in range(0, len(lst), n):\n",
    "        yield lst[i:i + n]"
   ]
  },
  {
   "cell_type": "code",
   "execution_count": 69,
   "id": "c49e457c",
   "metadata": {},
   "outputs": [],
   "source": [
    "oa_results = []\n",
    "oa_results_id = set([])"
   ]
  },
  {
   "cell_type": "code",
   "execution_count": 77,
   "id": "7cd220b1",
   "metadata": {},
   "outputs": [
    {
     "name": "stdout",
     "output_type": "stream",
     "text": [
      "50\n",
      "chunk 0 - 0,chunk 0 - 1,chunk 0 - 2,chunk 0 - 3,chunk 0 - 4,chunk 0 - 5,chunk 0 - 6,chunk 0 - 7,chunk 0 - 8,chunk 0 - 9,chunk 0 - 10,chunk 0 - 11,chunk 0 - 12,chunk 0 - 13,chunk 0 - 14,chunk 0 - 15,chunk 0 - 16,chunk 0 - 17,chunk 0 - 18,chunk 0 - 19,chunk 0 - 20,chunk 0 - 21,chunk 0 - 22,chunk 0 - 23,chunk 0 - 24,chunk 0 - 25,chunk 0 - 26,chunk 0 - 27,chunk 0 - 28,chunk 0 - 29,chunk 0 - 30,chunk 0 - 31,chunk 0 - 32,chunk 0 - 33,chunk 0 - 34,chunk 0 - 35,chunk 0 - 36,chunk 0 - 37,chunk 0 - 38,chunk 0 - 39,chunk 0 - 40,chunk 0 - 41,chunk 0 - 42,chunk 0 - 43,chunk 0 - 44,chunk 0 - 45,chunk 0 - 46,chunk 0 - 47,chunk 0 - 48,chunk 0 - 49,chunk 0 - 50,chunk 0 - 51,22\n",
      "chunk 1 - 0,chunk 1 - 1,chunk 1 - 2,chunk 1 - 3,chunk 1 - 4,chunk 1 - 5,chunk 1 - 6,chunk 1 - 7,chunk 1 - 8,chunk 1 - 9,chunk 1 - 10,chunk 1 - 11,chunk 1 - 12,chunk 1 - 13,chunk 1 - 14,chunk 1 - 15,chunk 1 - 16,chunk 1 - 17,chunk 1 - 18,chunk 1 - 19,chunk 1 - 20,chunk 1 - 21,chunk 1 - 22,chunk 1 - 23,chunk 1 - 24,chunk 1 - 25,chunk 1 - 26,chunk 1 - 27,chunk 1 - 28,chunk 1 - 29,chunk 1 - 30,chunk 1 - 31,chunk 1 - 32,chunk 1 - 33,chunk 1 - 34,chunk 1 - 35,chunk 1 - 36,chunk 1 - 37,chunk 1 - 38,chunk 1 - 39,chunk 1 - 40,chunk 1 - 41,chunk 1 - 42,chunk 1 - 43,chunk 1 - 44,chunk 1 - 45,chunk 1 - 46,chunk 1 - 47,chunk 1 - 48,chunk 1 - 49,chunk 1 - 50,chunk 1 - 51,chunk 1 - 52,chunk 1 - 53,chunk 1 - 54,chunk 1 - 55,chunk 1 - 56,chunk 1 - 57,chunk 1 - 58,chunk 1 - 59,chunk 1 - 60,chunk 1 - 61,chunk 1 - 62,chunk 1 - 63,chunk 1 - 64,chunk 1 - 65,chunk 1 - 66,chunk 1 - 67,chunk 1 - 68,chunk 1 - 69,chunk 1 - 70,chunk 1 - 71,chunk 1 - 72,chunk 1 - 73,chunk 1 - 74,chunk 1 - 75,chunk 1 - 76,chunk 1 - 77,chunk 1 - 78,chunk 1 - 79,chunk 1 - 80,chunk 1 - 81,chunk 1 - 82,chunk 1 - 83,chunk 1 - 84,chunk 1 - 85,chunk 1 - 86,chunk 1 - 87,chunk 1 - 88,chunk 1 - 89,chunk 1 - 90,chunk 1 - 91,chunk 1 - 92,chunk 1 - 93,chunk 1 - 94,chunk 1 - 95,chunk 1 - 96,chunk 1 - 97,chunk 1 - 98,chunk 1 - 99,chunk 1 - 100,chunk 1 - 101,chunk 1 - 102,chunk 1 - 103,chunk 1 - 104,chunk 1 - 105,chunk 1 - 106,chunk 1 - 107,chunk 1 - 108,chunk 1 - 109,chunk 1 - 110,chunk 1 - 111,chunk 1 - 112,chunk 1 - 113,chunk 1 - 114,chunk 1 - 115,chunk 1 - 116,chunk 1 - 117,chunk 1 - 118,chunk 1 - 119,chunk 1 - 120,chunk 1 - 121,chunk 1 - 122,chunk 1 - 123,chunk 1 - 124,chunk 1 - 125,chunk 1 - 126,chunk 1 - 127,chunk 1 - 128,chunk 1 - 129,chunk 1 - 130,chunk 1 - 131,chunk 1 - 132,chunk 1 - 133,chunk 1 - 134,chunk 1 - 135,"
     ]
    }
   ],
   "source": [
    "sub_rors_chunks = list(chunks(sub_rors, 50))\n",
    "for chunk_ix, sub_rors_chunk in enumerate(sub_rors_chunks):\n",
    "    sub_rors_str = '|'.join(sub_rors_chunk)\n",
    "    print(len(sub_rors_chunk))\n",
    "    for jx in range(0, 1000):\n",
    "        print(f'chunk {chunk_ix} - {jx}', end=',')\n",
    "        if jx == 0:\n",
    "            cursor = '*'\n",
    "        url_oa = f'https://api.openalex.org/authors?filter=affiliations.institution.ror:{sub_rors_str}&per-page=200&cursor={cursor}'\n",
    "        res = requests.get(url_oa).json()\n",
    "        if 'results' not in res:\n",
    "            break\n",
    "        for k in res['results']:\n",
    "            if k['id'] not in oa_results_id:\n",
    "                oa_results.append(k)\n",
    "                oa_results_id.add(k['id'])\n",
    "        try:\n",
    "            cursor = res['meta']['next_cursor']\n",
    "        except:\n",
    "            break"
   ]
  },
  {
   "cell_type": "code",
   "execution_count": 85,
   "id": "1bc48a50",
   "metadata": {},
   "outputs": [],
   "source": [
    "authors_to_search = []\n",
    "for author in oa_results:\n",
    "    to_add = False\n",
    "    for aff in author['affiliations']:\n",
    "        if isinstance(aff.get('institution')['ror'], str) and aff.get('institution')['ror'].split('/')[-1] in sub_rors:\n",
    "            recent_years = [y for y in aff.get('years', []) if y > 2020]\n",
    "            if len(recent_years)>=3:\n",
    "                to_add = True\n",
    "                break\n",
    "    if to_add:\n",
    "        authors_to_search.append(author)"
   ]
  },
  {
   "cell_type": "code",
   "execution_count": 88,
   "id": "041dbea6",
   "metadata": {},
   "outputs": [
    {
     "data": {
      "text/plain": [
       "1788"
      ]
     },
     "execution_count": 88,
     "metadata": {},
     "output_type": "execute_result"
    }
   ],
   "source": [
    "len(authors_to_search)"
   ]
  },
  {
   "cell_type": "code",
   "execution_count": 92,
   "id": "c9ebeb57",
   "metadata": {},
   "outputs": [
    {
     "data": {
      "text/html": [
       "<div>\n",
       "<style scoped>\n",
       "    .dataframe tbody tr th:only-of-type {\n",
       "        vertical-align: middle;\n",
       "    }\n",
       "\n",
       "    .dataframe tbody tr th {\n",
       "        vertical-align: top;\n",
       "    }\n",
       "\n",
       "    .dataframe thead th {\n",
       "        text-align: right;\n",
       "    }\n",
       "</style>\n",
       "<table border=\"1\" class=\"dataframe\">\n",
       "  <thead>\n",
       "    <tr style=\"text-align: right;\">\n",
       "      <th></th>\n",
       "      <th>orcid</th>\n",
       "      <th>display_name</th>\n",
       "    </tr>\n",
       "  </thead>\n",
       "  <tbody>\n",
       "    <tr>\n",
       "      <th>0</th>\n",
       "      <td>https://orcid.org/0000-0002-4737-3715</td>\n",
       "      <td>Francis Martin</td>\n",
       "    </tr>\n",
       "    <tr>\n",
       "      <th>1</th>\n",
       "      <td>https://orcid.org/0000-0002-9749-7185</td>\n",
       "      <td>A. Pizzi</td>\n",
       "    </tr>\n",
       "    <tr>\n",
       "      <th>2</th>\n",
       "      <td>https://orcid.org/0000-0002-1001-6386</td>\n",
       "      <td>Guohua Hu</td>\n",
       "    </tr>\n",
       "    <tr>\n",
       "      <th>3</th>\n",
       "      <td>https://orcid.org/0000-0002-3743-9215</td>\n",
       "      <td>Éric Rondeau</td>\n",
       "    </tr>\n",
       "    <tr>\n",
       "      <th>4</th>\n",
       "      <td>https://orcid.org/0000-0002-9687-7952</td>\n",
       "      <td>Fabrice Laurent</td>\n",
       "    </tr>\n",
       "    <tr>\n",
       "      <th>5</th>\n",
       "      <td>https://orcid.org/0000-0002-1845-3935</td>\n",
       "      <td>Bruno Rossion</td>\n",
       "    </tr>\n",
       "    <tr>\n",
       "      <th>6</th>\n",
       "      <td>https://orcid.org/0000-0001-5236-9561</td>\n",
       "      <td>Amedeo Napoli</td>\n",
       "    </tr>\n",
       "    <tr>\n",
       "      <th>7</th>\n",
       "      <td>https://orcid.org/0000-0001-8067-7983</td>\n",
       "      <td>G. Amarenco</td>\n",
       "    </tr>\n",
       "    <tr>\n",
       "      <th>8</th>\n",
       "      <td>None</td>\n",
       "      <td>Didier Mainard</td>\n",
       "    </tr>\n",
       "    <tr>\n",
       "      <th>9</th>\n",
       "      <td>None</td>\n",
       "      <td>Patrick Netter</td>\n",
       "    </tr>\n",
       "    <tr>\n",
       "      <th>10</th>\n",
       "      <td>None</td>\n",
       "      <td>Olivier Festor</td>\n",
       "    </tr>\n",
       "    <tr>\n",
       "      <th>11</th>\n",
       "      <td>https://orcid.org/0000-0001-6095-3143</td>\n",
       "      <td>Philippe Weber</td>\n",
       "    </tr>\n",
       "    <tr>\n",
       "      <th>12</th>\n",
       "      <td>https://orcid.org/0000-0002-0183-7289</td>\n",
       "      <td>Emmanuel Vincent</td>\n",
       "    </tr>\n",
       "    <tr>\n",
       "      <th>13</th>\n",
       "      <td>https://orcid.org/0000-0002-2304-6138</td>\n",
       "      <td>João Pedro Ferreira</td>\n",
       "    </tr>\n",
       "    <tr>\n",
       "      <th>14</th>\n",
       "      <td>https://orcid.org/0000-0001-8467-0826</td>\n",
       "      <td>Cyril Tarquinio</td>\n",
       "    </tr>\n",
       "    <tr>\n",
       "      <th>15</th>\n",
       "      <td>https://orcid.org/0000-0002-9980-7052</td>\n",
       "      <td>Alain Blum</td>\n",
       "    </tr>\n",
       "    <tr>\n",
       "      <th>16</th>\n",
       "      <td>https://orcid.org/0000-0002-7699-5855</td>\n",
       "      <td>Ye‐Qiong Song</td>\n",
       "    </tr>\n",
       "    <tr>\n",
       "      <th>17</th>\n",
       "      <td>https://orcid.org/0000-0002-0598-7508</td>\n",
       "      <td>Pierre Gillet</td>\n",
       "    </tr>\n",
       "    <tr>\n",
       "      <th>18</th>\n",
       "      <td>https://orcid.org/0000-0003-2298-2124</td>\n",
       "      <td>Mohamed Darouach</td>\n",
       "    </tr>\n",
       "    <tr>\n",
       "      <th>19</th>\n",
       "      <td>https://orcid.org/0000-0003-1017-6029</td>\n",
       "      <td>Alain Durand</td>\n",
       "    </tr>\n",
       "    <tr>\n",
       "      <th>20</th>\n",
       "      <td>None</td>\n",
       "      <td>Marie‐Noëlle Pons</td>\n",
       "    </tr>\n",
       "    <tr>\n",
       "      <th>21</th>\n",
       "      <td>https://orcid.org/0000-0002-3278-2057</td>\n",
       "      <td>Nicolas Girerd</td>\n",
       "    </tr>\n",
       "    <tr>\n",
       "      <th>22</th>\n",
       "      <td>None</td>\n",
       "      <td>Bernard Combettes</td>\n",
       "    </tr>\n",
       "    <tr>\n",
       "      <th>23</th>\n",
       "      <td>https://orcid.org/0000-0003-2530-5399</td>\n",
       "      <td>M. Nespolo</td>\n",
       "    </tr>\n",
       "    <tr>\n",
       "      <th>24</th>\n",
       "      <td>None</td>\n",
       "      <td>Jean–Louis Guéant</td>\n",
       "    </tr>\n",
       "  </tbody>\n",
       "</table>\n",
       "</div>"
      ],
      "text/plain": [
       "                                    orcid         display_name\n",
       "0   https://orcid.org/0000-0002-4737-3715       Francis Martin\n",
       "1   https://orcid.org/0000-0002-9749-7185             A. Pizzi\n",
       "2   https://orcid.org/0000-0002-1001-6386            Guohua Hu\n",
       "3   https://orcid.org/0000-0002-3743-9215         Éric Rondeau\n",
       "4   https://orcid.org/0000-0002-9687-7952      Fabrice Laurent\n",
       "5   https://orcid.org/0000-0002-1845-3935        Bruno Rossion\n",
       "6   https://orcid.org/0000-0001-5236-9561        Amedeo Napoli\n",
       "7   https://orcid.org/0000-0001-8067-7983          G. Amarenco\n",
       "8                                    None       Didier Mainard\n",
       "9                                    None       Patrick Netter\n",
       "10                                   None       Olivier Festor\n",
       "11  https://orcid.org/0000-0001-6095-3143       Philippe Weber\n",
       "12  https://orcid.org/0000-0002-0183-7289     Emmanuel Vincent\n",
       "13  https://orcid.org/0000-0002-2304-6138  João Pedro Ferreira\n",
       "14  https://orcid.org/0000-0001-8467-0826      Cyril Tarquinio\n",
       "15  https://orcid.org/0000-0002-9980-7052           Alain Blum\n",
       "16  https://orcid.org/0000-0002-7699-5855        Ye‐Qiong Song\n",
       "17  https://orcid.org/0000-0002-0598-7508        Pierre Gillet\n",
       "18  https://orcid.org/0000-0003-2298-2124     Mohamed Darouach\n",
       "19  https://orcid.org/0000-0003-1017-6029         Alain Durand\n",
       "20                                   None    Marie‐Noëlle Pons\n",
       "21  https://orcid.org/0000-0002-3278-2057       Nicolas Girerd\n",
       "22                                   None    Bernard Combettes\n",
       "23  https://orcid.org/0000-0003-2530-5399           M. Nespolo\n",
       "24                                   None    Jean–Louis Guéant"
      ]
     },
     "execution_count": 92,
     "metadata": {},
     "output_type": "execute_result"
    }
   ],
   "source": [
    "pd.DataFrame(authors_to_search)[['orcid', 'display_name']].head(25)"
   ]
  },
  {
   "cell_type": "code",
   "execution_count": null,
   "id": "447e7e2a",
   "metadata": {},
   "outputs": [],
   "source": []
  }
 ],
 "metadata": {
  "kernelspec": {
   "display_name": "Python 3",
   "language": "python",
   "name": "python3"
  },
  "language_info": {
   "codemirror_mode": {
    "name": "ipython",
    "version": 3
   },
   "file_extension": ".py",
   "mimetype": "text/x-python",
   "name": "python",
   "nbconvert_exporter": "python",
   "pygments_lexer": "ipython3",
   "version": "3.9.18"
  }
 },
 "nbformat": 4,
 "nbformat_minor": 5
}
